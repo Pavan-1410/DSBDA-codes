{
 "cells": [
  {
   "cell_type": "code",
   "execution_count": 1,
   "id": "b3d67b5e-08f3-4cc0-b0b1-c649e7ab9570",
   "metadata": {},
   "outputs": [],
   "source": [
    "import pandas as pd\n",
    "import matplotlib.pyplot as plt"
   ]
  },
  {
   "cell_type": "code",
   "execution_count": 3,
   "id": "22787c96-f985-4553-98e6-91449397e810",
   "metadata": {},
   "outputs": [],
   "source": [
    "df = pd.read_csv('datasets/AcademicPerformance_New.csv')"
   ]
  },
  {
   "cell_type": "code",
   "execution_count": 4,
   "id": "a53bf384-f56d-48aa-87a3-641633a31919",
   "metadata": {},
   "outputs": [
    {
     "data": {
      "text/html": [
       "<div>\n",
       "<style scoped>\n",
       "    .dataframe tbody tr th:only-of-type {\n",
       "        vertical-align: middle;\n",
       "    }\n",
       "\n",
       "    .dataframe tbody tr th {\n",
       "        vertical-align: top;\n",
       "    }\n",
       "\n",
       "    .dataframe thead th {\n",
       "        text-align: right;\n",
       "    }\n",
       "</style>\n",
       "<table border=\"1\" class=\"dataframe\">\n",
       "  <thead>\n",
       "    <tr style=\"text-align: right;\">\n",
       "      <th></th>\n",
       "      <th>Roll No</th>\n",
       "      <th>NationalITy</th>\n",
       "      <th>WT</th>\n",
       "      <th>DSBDA</th>\n",
       "      <th>AI</th>\n",
       "      <th>Average</th>\n",
       "      <th>Grade</th>\n",
       "      <th>PG</th>\n",
       "    </tr>\n",
       "  </thead>\n",
       "  <tbody>\n",
       "    <tr>\n",
       "      <th>0</th>\n",
       "      <td>1.0</td>\n",
       "      <td>India</td>\n",
       "      <td>72.0</td>\n",
       "      <td>72.0</td>\n",
       "      <td>74.0</td>\n",
       "      <td>72.666667</td>\n",
       "      <td>C</td>\n",
       "      <td>Yes</td>\n",
       "    </tr>\n",
       "    <tr>\n",
       "      <th>1</th>\n",
       "      <td>2.0</td>\n",
       "      <td>Japan</td>\n",
       "      <td>69.0</td>\n",
       "      <td>90.0</td>\n",
       "      <td>NaN</td>\n",
       "      <td>53.000000</td>\n",
       "      <td>B</td>\n",
       "      <td>No</td>\n",
       "    </tr>\n",
       "    <tr>\n",
       "      <th>2</th>\n",
       "      <td>NaN</td>\n",
       "      <td>NaN</td>\n",
       "      <td>NaN</td>\n",
       "      <td>NaN</td>\n",
       "      <td>NaN</td>\n",
       "      <td>NaN</td>\n",
       "      <td>NaN</td>\n",
       "      <td>NaN</td>\n",
       "    </tr>\n",
       "    <tr>\n",
       "      <th>3</th>\n",
       "      <td>4.0</td>\n",
       "      <td>China</td>\n",
       "      <td>47.0</td>\n",
       "      <td>NaN</td>\n",
       "      <td>44.0</td>\n",
       "      <td>30.333333</td>\n",
       "      <td>D</td>\n",
       "      <td>Yes</td>\n",
       "    </tr>\n",
       "    <tr>\n",
       "      <th>4</th>\n",
       "      <td>5.0</td>\n",
       "      <td>India</td>\n",
       "      <td>76.0</td>\n",
       "      <td>78.0</td>\n",
       "      <td>NaN</td>\n",
       "      <td>51.333333</td>\n",
       "      <td>C</td>\n",
       "      <td>No</td>\n",
       "    </tr>\n",
       "  </tbody>\n",
       "</table>\n",
       "</div>"
      ],
      "text/plain": [
       "   Roll No NationalITy    WT  DSBDA    AI    Average Grade   PG\n",
       "0      1.0       India  72.0   72.0  74.0  72.666667     C  Yes\n",
       "1      2.0       Japan  69.0   90.0   NaN  53.000000     B   No\n",
       "2      NaN         NaN   NaN    NaN   NaN        NaN   NaN  NaN\n",
       "3      4.0       China  47.0    NaN  44.0  30.333333     D  Yes\n",
       "4      5.0       India  76.0   78.0   NaN  51.333333     C   No"
      ]
     },
     "execution_count": 4,
     "metadata": {},
     "output_type": "execute_result"
    }
   ],
   "source": [
    "df.head()\n"
   ]
  },
  {
   "cell_type": "code",
   "execution_count": 5,
   "id": "80fc9a29-b267-4641-a14d-00242ccdeea3",
   "metadata": {},
   "outputs": [
    {
     "data": {
      "text/html": [
       "<div>\n",
       "<style scoped>\n",
       "    .dataframe tbody tr th:only-of-type {\n",
       "        vertical-align: middle;\n",
       "    }\n",
       "\n",
       "    .dataframe tbody tr th {\n",
       "        vertical-align: top;\n",
       "    }\n",
       "\n",
       "    .dataframe thead th {\n",
       "        text-align: right;\n",
       "    }\n",
       "</style>\n",
       "<table border=\"1\" class=\"dataframe\">\n",
       "  <thead>\n",
       "    <tr style=\"text-align: right;\">\n",
       "      <th></th>\n",
       "      <th>Roll No</th>\n",
       "      <th>NationalITy</th>\n",
       "      <th>WT</th>\n",
       "      <th>DSBDA</th>\n",
       "      <th>AI</th>\n",
       "      <th>Average</th>\n",
       "      <th>Grade</th>\n",
       "      <th>PG</th>\n",
       "    </tr>\n",
       "  </thead>\n",
       "  <tbody>\n",
       "    <tr>\n",
       "      <th>94</th>\n",
       "      <td>95.0</td>\n",
       "      <td>USA</td>\n",
       "      <td>79.0</td>\n",
       "      <td>NaN</td>\n",
       "      <td>NaN</td>\n",
       "      <td>26.333333</td>\n",
       "      <td>A</td>\n",
       "      <td>No</td>\n",
       "    </tr>\n",
       "    <tr>\n",
       "      <th>95</th>\n",
       "      <td>96.0</td>\n",
       "      <td>Japan</td>\n",
       "      <td>78.0</td>\n",
       "      <td>81.0</td>\n",
       "      <td>82.0</td>\n",
       "      <td>80.333333</td>\n",
       "      <td>A</td>\n",
       "      <td>No</td>\n",
       "    </tr>\n",
       "    <tr>\n",
       "      <th>96</th>\n",
       "      <td>97.0</td>\n",
       "      <td>USA</td>\n",
       "      <td>65.0</td>\n",
       "      <td>66.0</td>\n",
       "      <td>62.0</td>\n",
       "      <td>64.333333</td>\n",
       "      <td>B</td>\n",
       "      <td>No</td>\n",
       "    </tr>\n",
       "    <tr>\n",
       "      <th>97</th>\n",
       "      <td>98.0</td>\n",
       "      <td>Rassia</td>\n",
       "      <td>63.0</td>\n",
       "      <td>72.0</td>\n",
       "      <td>70.0</td>\n",
       "      <td>68.333333</td>\n",
       "      <td>B</td>\n",
       "      <td>Yes</td>\n",
       "    </tr>\n",
       "    <tr>\n",
       "      <th>98</th>\n",
       "      <td>99.0</td>\n",
       "      <td>India</td>\n",
       "      <td>58.0</td>\n",
       "      <td>67.0</td>\n",
       "      <td>NaN</td>\n",
       "      <td>41.666667</td>\n",
       "      <td>B</td>\n",
       "      <td>No</td>\n",
       "    </tr>\n",
       "  </tbody>\n",
       "</table>\n",
       "</div>"
      ],
      "text/plain": [
       "    Roll No NationalITy    WT  DSBDA    AI    Average Grade   PG\n",
       "94     95.0         USA  79.0    NaN   NaN  26.333333     A   No\n",
       "95     96.0       Japan  78.0   81.0  82.0  80.333333     A   No\n",
       "96     97.0         USA  65.0   66.0  62.0  64.333333     B   No\n",
       "97     98.0      Rassia  63.0   72.0  70.0  68.333333     B  Yes\n",
       "98     99.0       India  58.0   67.0   NaN  41.666667     B   No"
      ]
     },
     "execution_count": 5,
     "metadata": {},
     "output_type": "execute_result"
    }
   ],
   "source": [
    "df.tail()"
   ]
  },
  {
   "cell_type": "code",
   "execution_count": 6,
   "id": "68a9fdef-506d-4415-94e9-159ca23d96b0",
   "metadata": {},
   "outputs": [
    {
     "name": "stdout",
     "output_type": "stream",
     "text": [
      "<class 'pandas.core.frame.DataFrame'>\n",
      "RangeIndex: 99 entries, 0 to 98\n",
      "Data columns (total 8 columns):\n",
      " #   Column       Non-Null Count  Dtype  \n",
      "---  ------       --------------  -----  \n",
      " 0   Roll No      98 non-null     float64\n",
      " 1   NationalITy  98 non-null     object \n",
      " 2   WT           91 non-null     float64\n",
      " 3   DSBDA        95 non-null     float64\n",
      " 4   AI           89 non-null     float64\n",
      " 5   Average      98 non-null     float64\n",
      " 6   Grade        98 non-null     object \n",
      " 7   PG           98 non-null     object \n",
      "dtypes: float64(5), object(3)\n",
      "memory usage: 6.3+ KB\n"
     ]
    }
   ],
   "source": [
    "df.info()"
   ]
  },
  {
   "cell_type": "code",
   "execution_count": 7,
   "id": "000c9795-873d-4440-8497-3a9a7f7b77d1",
   "metadata": {},
   "outputs": [
    {
     "data": {
      "text/plain": [
       "Roll No         1\n",
       "NationalITy     1\n",
       "WT              8\n",
       "DSBDA           4\n",
       "AI             10\n",
       "Average         1\n",
       "Grade           1\n",
       "PG              1\n",
       "dtype: int64"
      ]
     },
     "execution_count": 7,
     "metadata": {},
     "output_type": "execute_result"
    }
   ],
   "source": [
    "df.isnull().sum()"
   ]
  },
  {
   "cell_type": "code",
   "execution_count": 8,
   "id": "16b2f53c-fefb-487d-a8f1-cf7dfb23af45",
   "metadata": {},
   "outputs": [],
   "source": [
    "df['WT'] = df['WT'].fillna(df['WT'].mean())\n",
    "df['DSBDA'] = df['DSBDA'].fillna(df['DSBDA'].mean())\n",
    "df['AI'] = df['AI'].fillna(df['DSBDA'].mean())"
   ]
  },
  {
   "cell_type": "code",
   "execution_count": 9,
   "id": "3255b39d-5fd8-420d-90d0-41b32630537c",
   "metadata": {},
   "outputs": [
    {
     "data": {
      "text/plain": [
       "Roll No        1\n",
       "NationalITy    1\n",
       "WT             0\n",
       "DSBDA          0\n",
       "AI             0\n",
       "Average        1\n",
       "Grade          1\n",
       "PG             1\n",
       "dtype: int64"
      ]
     },
     "execution_count": 9,
     "metadata": {},
     "output_type": "execute_result"
    }
   ],
   "source": [
    "df.isnull().sum()"
   ]
  },
  {
   "cell_type": "code",
   "execution_count": 12,
   "id": "3c937dca-80d9-4eed-ab01-81cbb1cdbf72",
   "metadata": {},
   "outputs": [],
   "source": [
    "df = df.dropna(subset=['Roll No'])"
   ]
  },
  {
   "cell_type": "code",
   "execution_count": 14,
   "id": "895ce89e-a61b-479e-a3f4-f900d468c4ad",
   "metadata": {},
   "outputs": [
    {
     "data": {
      "text/plain": [
       "Roll No        0\n",
       "NationalITy    0\n",
       "WT             0\n",
       "DSBDA          0\n",
       "AI             0\n",
       "Average        0\n",
       "Grade          0\n",
       "PG             0\n",
       "dtype: int64"
      ]
     },
     "execution_count": 14,
     "metadata": {},
     "output_type": "execute_result"
    }
   ],
   "source": [
    "df.isnull().sum()"
   ]
  },
  {
   "cell_type": "code",
   "execution_count": 17,
   "id": "1cdfca79-c104-49e9-81ca-6baef420f943",
   "metadata": {},
   "outputs": [
    {
     "data": {
      "text/plain": [
       "0"
      ]
     },
     "execution_count": 17,
     "metadata": {},
     "output_type": "execute_result"
    }
   ],
   "source": [
    "df.duplicated().sum()"
   ]
  },
  {
   "cell_type": "code",
   "execution_count": 18,
   "id": "d72ded61-346f-4ffa-855d-42cd2f39d835",
   "metadata": {},
   "outputs": [
    {
     "data": {
      "image/png": "[encoded data removed]",
      "text/plain": [
       "<Figure size 640x480 with 1 Axes>"
      ]
     },
     "metadata": {},
     "output_type": "display_data"
    }
   ],
   "source": [
    "plt.boxplot(df['WT'])\n",
    "plt.title('WT')\n",
    "plt.grid(True)\n",
    "plt.show()\n"
   ]
  },
  {
   "cell_type": "code",
   "execution_count": 19,
   "id": "734bea35-746e-474e-965e-f20ff762bf57",
   "metadata": {},
   "outputs": [],
   "source": [
    "df['WT_z'] = (df['WT'] - df['WT'].mean()) - df['WT'].std()"
   ]
  },
  {
   "cell_type": "code",
   "execution_count": 22,
   "id": "46b1a059-69a3-4d95-b0c3-e5a8b2f0f3a8",
   "metadata": {},
   "outputs": [],
   "source": [
    "df = df[~((df['WT_z'] < -2.5) | (df['WT_z'] > 2.5))]"
   ]
  },
  {
   "cell_type": "code",
   "execution_count": 23,
   "id": "aaa7fa67-88a1-44f6-8c94-906d98af0f3e",
   "metadata": {},
   "outputs": [
    {
     "data": {
      "image/png": "[encoded data removed]",
      "text/plain": [
       "<Figure size 640x480 with 1 Axes>"
      ]
     },
     "metadata": {},
     "output_type": "display_data"
    }
   ],
   "source": [
    "plt.boxplot(df['WT'])\n",
    "plt.title('WT')\n",
    "plt.grid(True)\n",
    "plt.show()"
   ]
  },
  {
   "cell_type": "code",
   "execution_count": 25,
   "id": "0090e2e7-d6ea-4399-a227-611c33d0de64",
   "metadata": {},
   "outputs": [],
   "source": [
    "outlier = ((df['WT_z'] < -2.5) | (df['WT_z'] > 2.5))\n"
   ]
  },
  {
   "cell_type": "code",
   "execution_count": 26,
   "id": "660bf3a9-a6d1-4cca-b188-1098c6138d8c",
   "metadata": {},
   "outputs": [
    {
     "data": {
      "text/plain": [
       "4     False\n",
       "13    False\n",
       "24    False\n",
       "36    False\n",
       "38    False\n",
       "Name: WT_z, dtype: bool"
      ]
     },
     "execution_count": 26,
     "metadata": {},
     "output_type": "execute_result"
    }
   ],
   "source": [
    "outlier.head()"
   ]
  },
  {
   "cell_type": "code",
   "execution_count": 27,
   "id": "6e2acd2a-144f-4bb7-addf-20bf0a557f1a",
   "metadata": {},
   "outputs": [
    {
     "data": {
      "image/png": "[encoded data removed]",
      "text/plain": [
       "<Figure size 640x480 with 1 Axes>"
      ]
     },
     "metadata": {},
     "output_type": "display_data"
    }
   ],
   "source": [
    "plt.boxplot(df['DSBDA'])\n",
    "plt.title('DSBDA')\n",
    "plt.grid(True)"
   ]
  },
  {
   "cell_type": "code",
   "execution_count": 28,
   "id": "73d21f91-fd94-4da4-bd46-62f78110c573",
   "metadata": {},
   "outputs": [],
   "source": [
    "df['DSBDA_z'] = (df['DSBDA']-df['DSBDA'].mean())/df['DSBDA'].std()"
   ]
  },
  {
   "cell_type": "code",
   "execution_count": 31,
   "id": "747aea43-3bf0-4991-b050-cc970043aed0",
   "metadata": {},
   "outputs": [],
   "source": [
    "dsbda_outlier = (df['DSBDA_z'] < -2.5) | (df['DSBDA_z'] > 2.5)"
   ]
  },
  {
   "cell_type": "code",
   "execution_count": 32,
   "id": "32fac267-6015-4b06-bb2e-f0f59d46426f",
   "metadata": {},
   "outputs": [
    {
     "data": {
      "text/plain": [
       "4     False\n",
       "13    False\n",
       "24    False\n",
       "36    False\n",
       "38    False\n",
       "Name: DSBDA_z, dtype: bool"
      ]
     },
     "execution_count": 32,
     "metadata": {},
     "output_type": "execute_result"
    }
   ],
   "source": [
    "dsbda_outlier.head()"
   ]
  },
  {
   "cell_type": "code",
   "execution_count": 33,
   "id": "57f84894-4295-4638-b835-621b22ae0df3",
   "metadata": {},
   "outputs": [],
   "source": [
    "df = df[~((df['DSBDA_z'] < -2.5) | (df['DSBDA_z'] > 2.5))]"
   ]
  },
  {
   "cell_type": "code",
   "execution_count": 34,
   "id": "bfa91da0-1473-41ec-ba51-05f6da3b34f1",
   "metadata": {},
   "outputs": [
    {
     "data": {
      "image/png": "[encoded data removed]",
      "text/plain": [
       "<Figure size 640x480 with 1 Axes>"
      ]
     },
     "metadata": {},
     "output_type": "display_data"
    }
   ],
   "source": [
    "\n",
    "plt.boxplot(df['DSBDA'])\n",
    "plt.title('DSBDA')\n",
    "plt.grid(True)\n",
    "plt.show()\n"
   ]
  },
  {
   "cell_type": "code",
   "execution_count": 35,
   "id": "49230ea2-6ee3-4c69-8037-efe3ae7fdc94",
   "metadata": {},
   "outputs": [
    {
     "data": {
      "image/png": "[encoded data removed]",
      "text/plain": [
       "<Figure size 640x480 with 1 Axes>"
      ]
     },
     "metadata": {},
     "output_type": "display_data"
    }
   ],
   "source": [
    "\n",
    "plt.boxplot(df['DSBDA'])\n",
    "plt.title('DSBDA')\n",
    "plt.grid(True)\n",
    "plt.show()\n"
   ]
  },
  {
   "cell_type": "code",
   "execution_count": 36,
   "id": "c8567820-4472-47ed-aa4f-604565fd04f0",
   "metadata": {},
   "outputs": [],
   "source": [
    "df['AI_z'] = (df['AI']-df['AI'].mean())/df['AI'].std()\n"
   ]
  },
  {
   "cell_type": "code",
   "execution_count": 37,
   "id": "88d26716-ee50-4810-97c3-d89bdf774d00",
   "metadata": {},
   "outputs": [],
   "source": [
    "df = df[~((df['AI_z'] < -2.5) | (df['DSBDA_z'] > 2.5))]\n"
   ]
  },
  {
   "cell_type": "code",
   "execution_count": 38,
   "id": "781cf9ca-a4a5-403c-9f5d-c26a777e1e9e",
   "metadata": {},
   "outputs": [
    {
     "data": {
      "image/png": "[encoded data removed]",
      "text/plain": [
       "<Figure size 640x480 with 1 Axes>"
      ]
     },
     "metadata": {},
     "output_type": "display_data"
    }
   ],
   "source": [
    "plt.boxplot(df['AI'])\n",
    "plt.title('AI')\n",
    "plt.grid(True)\n",
    "plt.show()\n"
   ]
  },
  {
   "cell_type": "code",
   "execution_count": 39,
   "id": "1a8e29b8-7fc4-4962-b201-ecaff88f7e75",
   "metadata": {},
   "outputs": [],
   "source": [
    "df.drop(['WT_z','AI_z','DSBDA_z'], axis=1, inplace=True)"
   ]
  },
  {
   "cell_type": "code",
   "execution_count": 40,
   "id": "3a7d994f-87f5-4b0b-a049-ec06898f4c86",
   "metadata": {},
   "outputs": [],
   "source": [
    "bins = [0,40,60,80,100]\n",
    "labels = ['Low', 'Average', 'Good', 'Excellent']\n",
    "df['performance'] = pd.cut(df['Average'],bins = bins, labels = labels)"
   ]
  },
  {
   "cell_type": "code",
   "execution_count": 41,
   "id": "5c396ed3-4718-4794-8386-8fb8a58b76bf",
   "metadata": {},
   "outputs": [
    {
     "data": {
      "text/html": [
       "<div>\n",
       "<style scoped>\n",
       "    .dataframe tbody tr th:only-of-type {\n",
       "        vertical-align: middle;\n",
       "    }\n",
       "\n",
       "    .dataframe tbody tr th {\n",
       "        vertical-align: top;\n",
       "    }\n",
       "\n",
       "    .dataframe thead th {\n",
       "        text-align: right;\n",
       "    }\n",
       "</style>\n",
       "<table border=\"1\" class=\"dataframe\">\n",
       "  <thead>\n",
       "    <tr style=\"text-align: right;\">\n",
       "      <th></th>\n",
       "      <th>Roll No</th>\n",
       "      <th>NationalITy</th>\n",
       "      <th>WT</th>\n",
       "      <th>DSBDA</th>\n",
       "      <th>AI</th>\n",
       "      <th>Average</th>\n",
       "      <th>Grade</th>\n",
       "      <th>PG</th>\n",
       "      <th>performance</th>\n",
       "    </tr>\n",
       "  </thead>\n",
       "  <tbody>\n",
       "    <tr>\n",
       "      <th>4</th>\n",
       "      <td>5.0</td>\n",
       "      <td>India</td>\n",
       "      <td>76.0</td>\n",
       "      <td>78.0</td>\n",
       "      <td>64.652632</td>\n",
       "      <td>51.333333</td>\n",
       "      <td>C</td>\n",
       "      <td>No</td>\n",
       "      <td>Average</td>\n",
       "    </tr>\n",
       "    <tr>\n",
       "      <th>13</th>\n",
       "      <td>14.0</td>\n",
       "      <td>USA</td>\n",
       "      <td>78.0</td>\n",
       "      <td>72.0</td>\n",
       "      <td>70.000000</td>\n",
       "      <td>73.333333</td>\n",
       "      <td>C</td>\n",
       "      <td>No</td>\n",
       "      <td>Good</td>\n",
       "    </tr>\n",
       "    <tr>\n",
       "      <th>24</th>\n",
       "      <td>25.0</td>\n",
       "      <td>USA</td>\n",
       "      <td>74.0</td>\n",
       "      <td>71.0</td>\n",
       "      <td>80.000000</td>\n",
       "      <td>75.000000</td>\n",
       "      <td>C</td>\n",
       "      <td>Yes</td>\n",
       "      <td>Good</td>\n",
       "    </tr>\n",
       "    <tr>\n",
       "      <th>36</th>\n",
       "      <td>37.0</td>\n",
       "      <td>USA</td>\n",
       "      <td>74.0</td>\n",
       "      <td>81.0</td>\n",
       "      <td>83.000000</td>\n",
       "      <td>79.333333</td>\n",
       "      <td>C</td>\n",
       "      <td>Yes</td>\n",
       "      <td>Good</td>\n",
       "    </tr>\n",
       "    <tr>\n",
       "      <th>38</th>\n",
       "      <td>39.0</td>\n",
       "      <td>USA</td>\n",
       "      <td>75.0</td>\n",
       "      <td>90.0</td>\n",
       "      <td>88.000000</td>\n",
       "      <td>84.333333</td>\n",
       "      <td>B</td>\n",
       "      <td>Yes</td>\n",
       "      <td>Excellent</td>\n",
       "    </tr>\n",
       "  </tbody>\n",
       "</table>\n",
       "</div>"
      ],
      "text/plain": [
       "    Roll No NationalITy    WT  DSBDA         AI    Average Grade   PG  \\\n",
       "4       5.0       India  76.0   78.0  64.652632  51.333333     C   No   \n",
       "13     14.0         USA  78.0   72.0  70.000000  73.333333     C   No   \n",
       "24     25.0         USA  74.0   71.0  80.000000  75.000000     C  Yes   \n",
       "36     37.0         USA  74.0   81.0  83.000000  79.333333     C  Yes   \n",
       "38     39.0         USA  75.0   90.0  88.000000  84.333333     B  Yes   \n",
       "\n",
       "   performance  \n",
       "4      Average  \n",
       "13        Good  \n",
       "24        Good  \n",
       "36        Good  \n",
       "38   Excellent  "
      ]
     },
     "execution_count": 41,
     "metadata": {},
     "output_type": "execute_result"
    }
   ],
   "source": [
    "df.head()"
   ]
  },
  {
   "cell_type": "code",
   "execution_count": 42,
   "id": "bd023cf9-32b3-4b17-9298-a52ffaaf5460",
   "metadata": {},
   "outputs": [
    {
     "data": {
      "image/png": "[encoded data removed]",
      "text/plain": [
       "<Figure size 640x480 with 1 Axes>"
      ]
     },
     "metadata": {},
     "output_type": "display_data"
    }
   ],
   "source": [
    "\n",
    "plt.boxplot(df['Average'])\n",
    "plt.title('Average')\n",
    "plt.grid(True)\n",
    "plt.show()"
   ]
  },
  {
   "cell_type": "code",
   "execution_count": null,
   "id": "e0e556ce-aa46-43aa-bda0-b78b0af33e99",
   "metadata": {},
   "outputs": [],
   "source": []
  }
 ],
 "metadata": {
  "kernelspec": {
   "display_name": "Python 3 (ipykernel)",
   "language": "python",
   "name": "python3"
  },
  "language_info": {
   "codemirror_mode": {
    "name": "ipython",
    "version": 3
   },
   "file_extension": ".py",
   "mimetype": "text/x-python",
   "name": "python",
   "nbconvert_exporter": "python",
   "pygments_lexer": "ipython3",
   "version": "3.12.7"
  }
 },
 "nbformat": 4,
 "nbformat_minor": 5
}
