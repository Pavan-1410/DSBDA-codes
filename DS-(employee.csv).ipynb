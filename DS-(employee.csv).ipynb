{
 "cells": [
  {
   "cell_type": "code",
   "execution_count": 1,
   "id": "b1849e17-f5b0-4283-8245-1e84d282cfe3",
   "metadata": {},
   "outputs": [],
   "source": [
    "import pandas as pd\n",
    "import matplotlib.pyplot as plt"
   ]
  },
  {
   "cell_type": "code",
   "execution_count": 3,
   "id": "fdf41f19-f951-4d64-9900-fe6b4276f654",
   "metadata": {},
   "outputs": [],
   "source": [
    "\n",
    "df = pd.read_csv('datasets/employee_2.csv')"
   ]
  },
  {
   "cell_type": "code",
   "execution_count": 4,
   "id": "48b3bd42-3dca-4435-9f37-6e03685df7b2",
   "metadata": {},
   "outputs": [
    {
     "data": {
      "text/html": [
       "<div>\n",
       "<style scoped>\n",
       "    .dataframe tbody tr th:only-of-type {\n",
       "        vertical-align: middle;\n",
       "    }\n",
       "\n",
       "    .dataframe tbody tr th {\n",
       "        vertical-align: top;\n",
       "    }\n",
       "\n",
       "    .dataframe thead th {\n",
       "        text-align: right;\n",
       "    }\n",
       "</style>\n",
       "<table border=\"1\" class=\"dataframe\">\n",
       "  <thead>\n",
       "    <tr style=\"text-align: right;\">\n",
       "      <th></th>\n",
       "      <th>Education</th>\n",
       "      <th>JoiningYear</th>\n",
       "      <th>City</th>\n",
       "      <th>PaymentTier</th>\n",
       "      <th>Age</th>\n",
       "      <th>Gender</th>\n",
       "      <th>EverBenched</th>\n",
       "      <th>ExperienceInCurrentDomain</th>\n",
       "      <th>LeaveOrNot</th>\n",
       "      <th>Salary</th>\n",
       "    </tr>\n",
       "  </thead>\n",
       "  <tbody>\n",
       "    <tr>\n",
       "      <th>0</th>\n",
       "      <td>Bachelors</td>\n",
       "      <td>2017</td>\n",
       "      <td>Bangalore</td>\n",
       "      <td>3</td>\n",
       "      <td>34</td>\n",
       "      <td>Male</td>\n",
       "      <td>No</td>\n",
       "      <td>0</td>\n",
       "      <td>0</td>\n",
       "      <td>171369.0</td>\n",
       "    </tr>\n",
       "    <tr>\n",
       "      <th>1</th>\n",
       "      <td>Bachelors</td>\n",
       "      <td>2013</td>\n",
       "      <td>Pune</td>\n",
       "      <td>1</td>\n",
       "      <td>28</td>\n",
       "      <td>Female</td>\n",
       "      <td>No</td>\n",
       "      <td>3</td>\n",
       "      <td>1</td>\n",
       "      <td>136993.0</td>\n",
       "    </tr>\n",
       "    <tr>\n",
       "      <th>2</th>\n",
       "      <td>Bachelors</td>\n",
       "      <td>2014</td>\n",
       "      <td>New Delhi</td>\n",
       "      <td>3</td>\n",
       "      <td>38</td>\n",
       "      <td>Female</td>\n",
       "      <td>No</td>\n",
       "      <td>2</td>\n",
       "      <td>0</td>\n",
       "      <td>113807.0</td>\n",
       "    </tr>\n",
       "    <tr>\n",
       "      <th>3</th>\n",
       "      <td>Masters</td>\n",
       "      <td>2016</td>\n",
       "      <td>Bangalore</td>\n",
       "      <td>3</td>\n",
       "      <td>27</td>\n",
       "      <td>Male</td>\n",
       "      <td>No</td>\n",
       "      <td>5</td>\n",
       "      <td>1</td>\n",
       "      <td>166478.0</td>\n",
       "    </tr>\n",
       "    <tr>\n",
       "      <th>4</th>\n",
       "      <td>Masters</td>\n",
       "      <td>2017</td>\n",
       "      <td>NaN</td>\n",
       "      <td>3</td>\n",
       "      <td>24</td>\n",
       "      <td>Male</td>\n",
       "      <td>Yes</td>\n",
       "      <td>2</td>\n",
       "      <td>1</td>\n",
       "      <td>393136.0</td>\n",
       "    </tr>\n",
       "  </tbody>\n",
       "</table>\n",
       "</div>"
      ],
      "text/plain": [
       "   Education  JoiningYear       City  PaymentTier  Age  Gender EverBenched  \\\n",
       "0  Bachelors         2017  Bangalore            3   34    Male          No   \n",
       "1  Bachelors         2013       Pune            1   28  Female          No   \n",
       "2  Bachelors         2014  New Delhi            3   38  Female          No   \n",
       "3    Masters         2016  Bangalore            3   27    Male          No   \n",
       "4    Masters         2017        NaN            3   24    Male         Yes   \n",
       "\n",
       "   ExperienceInCurrentDomain  LeaveOrNot    Salary  \n",
       "0                          0           0  171369.0  \n",
       "1                          3           1  136993.0  \n",
       "2                          2           0  113807.0  \n",
       "3                          5           1  166478.0  \n",
       "4                          2           1  393136.0  "
      ]
     },
     "execution_count": 4,
     "metadata": {},
     "output_type": "execute_result"
    }
   ],
   "source": [
    "\n",
    "df.head()"
   ]
  },
  {
   "cell_type": "code",
   "execution_count": 5,
   "id": "fb8aa584-bcc5-4447-a382-cf96550f5223",
   "metadata": {},
   "outputs": [
    {
     "name": "stdout",
     "output_type": "stream",
     "text": [
      "<class 'pandas.core.frame.DataFrame'>\n",
      "RangeIndex: 1807 entries, 0 to 1806\n",
      "Data columns (total 10 columns):\n",
      " #   Column                     Non-Null Count  Dtype  \n",
      "---  ------                     --------------  -----  \n",
      " 0   Education                  1807 non-null   object \n",
      " 1   JoiningYear                1807 non-null   int64  \n",
      " 2   City                       1793 non-null   object \n",
      " 3   PaymentTier                1807 non-null   int64  \n",
      " 4   Age                        1807 non-null   int64  \n",
      " 5   Gender                     1799 non-null   object \n",
      " 6   EverBenched                1807 non-null   object \n",
      " 7   ExperienceInCurrentDomain  1807 non-null   int64  \n",
      " 8   LeaveOrNot                 1807 non-null   int64  \n",
      " 9   Salary                     1798 non-null   float64\n",
      "dtypes: float64(1), int64(5), object(4)\n",
      "memory usage: 141.3+ KB\n"
     ]
    }
   ],
   "source": [
    "df.info()"
   ]
  },
  {
   "cell_type": "code",
   "execution_count": 6,
   "id": "3ce2075a-56f1-42be-94ae-90ebc689f353",
   "metadata": {},
   "outputs": [
    {
     "data": {
      "text/html": [
       "<div>\n",
       "<style scoped>\n",
       "    .dataframe tbody tr th:only-of-type {\n",
       "        vertical-align: middle;\n",
       "    }\n",
       "\n",
       "    .dataframe tbody tr th {\n",
       "        vertical-align: top;\n",
       "    }\n",
       "\n",
       "    .dataframe thead th {\n",
       "        text-align: right;\n",
       "    }\n",
       "</style>\n",
       "<table border=\"1\" class=\"dataframe\">\n",
       "  <thead>\n",
       "    <tr style=\"text-align: right;\">\n",
       "      <th></th>\n",
       "      <th>JoiningYear</th>\n",
       "      <th>PaymentTier</th>\n",
       "      <th>Age</th>\n",
       "      <th>ExperienceInCurrentDomain</th>\n",
       "      <th>LeaveOrNot</th>\n",
       "      <th>Salary</th>\n",
       "    </tr>\n",
       "  </thead>\n",
       "  <tbody>\n",
       "    <tr>\n",
       "      <th>count</th>\n",
       "      <td>1807.000000</td>\n",
       "      <td>1807.000000</td>\n",
       "      <td>1807.000000</td>\n",
       "      <td>1807.000000</td>\n",
       "      <td>1807.000000</td>\n",
       "      <td>1798.000000</td>\n",
       "    </tr>\n",
       "    <tr>\n",
       "      <th>mean</th>\n",
       "      <td>2015.076923</td>\n",
       "      <td>2.695075</td>\n",
       "      <td>26.310459</td>\n",
       "      <td>3.228002</td>\n",
       "      <td>0.362479</td>\n",
       "      <td>224240.323693</td>\n",
       "    </tr>\n",
       "    <tr>\n",
       "      <th>std</th>\n",
       "      <td>1.854077</td>\n",
       "      <td>0.564248</td>\n",
       "      <td>2.142854</td>\n",
       "      <td>1.302112</td>\n",
       "      <td>0.480849</td>\n",
       "      <td>100823.365853</td>\n",
       "    </tr>\n",
       "    <tr>\n",
       "      <th>min</th>\n",
       "      <td>2012.000000</td>\n",
       "      <td>1.000000</td>\n",
       "      <td>22.000000</td>\n",
       "      <td>0.000000</td>\n",
       "      <td>0.000000</td>\n",
       "      <td>50135.000000</td>\n",
       "    </tr>\n",
       "    <tr>\n",
       "      <th>25%</th>\n",
       "      <td>2013.000000</td>\n",
       "      <td>2.000000</td>\n",
       "      <td>25.000000</td>\n",
       "      <td>2.000000</td>\n",
       "      <td>0.000000</td>\n",
       "      <td>137712.250000</td>\n",
       "    </tr>\n",
       "    <tr>\n",
       "      <th>50%</th>\n",
       "      <td>2015.000000</td>\n",
       "      <td>3.000000</td>\n",
       "      <td>26.000000</td>\n",
       "      <td>3.000000</td>\n",
       "      <td>0.000000</td>\n",
       "      <td>226605.500000</td>\n",
       "    </tr>\n",
       "    <tr>\n",
       "      <th>75%</th>\n",
       "      <td>2017.000000</td>\n",
       "      <td>3.000000</td>\n",
       "      <td>27.000000</td>\n",
       "      <td>4.000000</td>\n",
       "      <td>1.000000</td>\n",
       "      <td>309474.000000</td>\n",
       "    </tr>\n",
       "    <tr>\n",
       "      <th>max</th>\n",
       "      <td>2018.000000</td>\n",
       "      <td>3.000000</td>\n",
       "      <td>40.000000</td>\n",
       "      <td>5.000000</td>\n",
       "      <td>1.000000</td>\n",
       "      <td>399785.000000</td>\n",
       "    </tr>\n",
       "  </tbody>\n",
       "</table>\n",
       "</div>"
      ],
      "text/plain": [
       "       JoiningYear  PaymentTier          Age  ExperienceInCurrentDomain  \\\n",
       "count  1807.000000  1807.000000  1807.000000                1807.000000   \n",
       "mean   2015.076923     2.695075    26.310459                   3.228002   \n",
       "std       1.854077     0.564248     2.142854                   1.302112   \n",
       "min    2012.000000     1.000000    22.000000                   0.000000   \n",
       "25%    2013.000000     2.000000    25.000000                   2.000000   \n",
       "50%    2015.000000     3.000000    26.000000                   3.000000   \n",
       "75%    2017.000000     3.000000    27.000000                   4.000000   \n",
       "max    2018.000000     3.000000    40.000000                   5.000000   \n",
       "\n",
       "        LeaveOrNot         Salary  \n",
       "count  1807.000000    1798.000000  \n",
       "mean      0.362479  224240.323693  \n",
       "std       0.480849  100823.365853  \n",
       "min       0.000000   50135.000000  \n",
       "25%       0.000000  137712.250000  \n",
       "50%       0.000000  226605.500000  \n",
       "75%       1.000000  309474.000000  \n",
       "max       1.000000  399785.000000  "
      ]
     },
     "execution_count": 6,
     "metadata": {},
     "output_type": "execute_result"
    }
   ],
   "source": [
    "\n",
    "df.describe()\n"
   ]
  },
  {
   "cell_type": "code",
   "execution_count": 7,
   "id": "447c58d1-2ded-43c9-a26e-889d8764eb53",
   "metadata": {},
   "outputs": [
    {
     "data": {
      "text/plain": [
       "226605.5"
      ]
     },
     "execution_count": 7,
     "metadata": {},
     "output_type": "execute_result"
    }
   ],
   "source": [
    "df['Salary'].median()"
   ]
  },
  {
   "cell_type": "code",
   "execution_count": 9,
   "id": "7b910c3f-70cd-4265-90db-355ae5cdb013",
   "metadata": {},
   "outputs": [
    {
     "data": {
      "text/plain": [
       "100823.36585298677"
      ]
     },
     "execution_count": 9,
     "metadata": {},
     "output_type": "execute_result"
    }
   ],
   "source": [
    "df['Salary'].std()\n"
   ]
  },
  {
   "cell_type": "code",
   "execution_count": 10,
   "id": "fe9ac1b4-53c1-46b7-9507-1419e1faa323",
   "metadata": {},
   "outputs": [
    {
     "data": {
      "text/plain": [
       "10165351101.925219"
      ]
     },
     "execution_count": 10,
     "metadata": {},
     "output_type": "execute_result"
    }
   ],
   "source": [
    "df['Salary'].var()"
   ]
  },
  {
   "cell_type": "code",
   "execution_count": 14,
   "id": "88760dd4-2fc8-4d30-8796-76abf86ae7da",
   "metadata": {},
   "outputs": [
    {
     "data": {
      "text/html": [
       "<div>\n",
       "<style scoped>\n",
       "    .dataframe tbody tr th:only-of-type {\n",
       "        vertical-align: middle;\n",
       "    }\n",
       "\n",
       "    .dataframe tbody tr th {\n",
       "        vertical-align: top;\n",
       "    }\n",
       "\n",
       "    .dataframe thead th {\n",
       "        text-align: right;\n",
       "    }\n",
       "</style>\n",
       "<table border=\"1\" class=\"dataframe\">\n",
       "  <thead>\n",
       "    <tr style=\"text-align: right;\">\n",
       "      <th></th>\n",
       "      <th>mean</th>\n",
       "      <th>median</th>\n",
       "      <th>min</th>\n",
       "      <th>max</th>\n",
       "      <th>count</th>\n",
       "    </tr>\n",
       "    <tr>\n",
       "      <th>Age</th>\n",
       "      <th></th>\n",
       "      <th></th>\n",
       "      <th></th>\n",
       "      <th></th>\n",
       "      <th></th>\n",
       "    </tr>\n",
       "  </thead>\n",
       "  <tbody>\n",
       "    <tr>\n",
       "      <th>22</th>\n",
       "      <td>259058.600000</td>\n",
       "      <td>245955.0</td>\n",
       "      <td>183393.0</td>\n",
       "      <td>354908.0</td>\n",
       "      <td>5</td>\n",
       "    </tr>\n",
       "    <tr>\n",
       "      <th>23</th>\n",
       "      <td>172689.250000</td>\n",
       "      <td>164731.0</td>\n",
       "      <td>52173.0</td>\n",
       "      <td>397163.0</td>\n",
       "      <td>8</td>\n",
       "    </tr>\n",
       "    <tr>\n",
       "      <th>24</th>\n",
       "      <td>222827.977564</td>\n",
       "      <td>225474.5</td>\n",
       "      <td>51042.0</td>\n",
       "      <td>394285.0</td>\n",
       "      <td>312</td>\n",
       "    </tr>\n",
       "    <tr>\n",
       "      <th>25</th>\n",
       "      <td>229309.074928</td>\n",
       "      <td>240109.0</td>\n",
       "      <td>50135.0</td>\n",
       "      <td>399598.0</td>\n",
       "      <td>347</td>\n",
       "    </tr>\n",
       "    <tr>\n",
       "      <th>26</th>\n",
       "      <td>230405.732591</td>\n",
       "      <td>238297.0</td>\n",
       "      <td>50214.0</td>\n",
       "      <td>399785.0</td>\n",
       "      <td>359</td>\n",
       "    </tr>\n",
       "    <tr>\n",
       "      <th>27</th>\n",
       "      <td>216327.515670</td>\n",
       "      <td>213749.0</td>\n",
       "      <td>50680.0</td>\n",
       "      <td>397692.0</td>\n",
       "      <td>351</td>\n",
       "    </tr>\n",
       "    <tr>\n",
       "      <th>28</th>\n",
       "      <td>221632.525281</td>\n",
       "      <td>218423.0</td>\n",
       "      <td>50595.0</td>\n",
       "      <td>396967.0</td>\n",
       "      <td>356</td>\n",
       "    </tr>\n",
       "    <tr>\n",
       "      <th>29</th>\n",
       "      <td>292121.166667</td>\n",
       "      <td>327895.5</td>\n",
       "      <td>144971.0</td>\n",
       "      <td>375674.0</td>\n",
       "      <td>6</td>\n",
       "    </tr>\n",
       "    <tr>\n",
       "      <th>30</th>\n",
       "      <td>251757.000000</td>\n",
       "      <td>270794.0</td>\n",
       "      <td>94671.0</td>\n",
       "      <td>359793.0</td>\n",
       "      <td>8</td>\n",
       "    </tr>\n",
       "    <tr>\n",
       "      <th>31</th>\n",
       "      <td>258535.666667</td>\n",
       "      <td>251533.0</td>\n",
       "      <td>77681.0</td>\n",
       "      <td>389566.0</td>\n",
       "      <td>6</td>\n",
       "    </tr>\n",
       "    <tr>\n",
       "      <th>32</th>\n",
       "      <td>212494.250000</td>\n",
       "      <td>234745.5</td>\n",
       "      <td>55866.0</td>\n",
       "      <td>324620.0</td>\n",
       "      <td>4</td>\n",
       "    </tr>\n",
       "    <tr>\n",
       "      <th>34</th>\n",
       "      <td>262236.333333</td>\n",
       "      <td>265231.0</td>\n",
       "      <td>142250.0</td>\n",
       "      <td>375917.0</td>\n",
       "      <td>9</td>\n",
       "    </tr>\n",
       "    <tr>\n",
       "      <th>35</th>\n",
       "      <td>314413.000000</td>\n",
       "      <td>314413.0</td>\n",
       "      <td>314413.0</td>\n",
       "      <td>314413.0</td>\n",
       "      <td>1</td>\n",
       "    </tr>\n",
       "    <tr>\n",
       "      <th>36</th>\n",
       "      <td>203788.666667</td>\n",
       "      <td>183351.0</td>\n",
       "      <td>67213.0</td>\n",
       "      <td>397693.0</td>\n",
       "      <td>6</td>\n",
       "    </tr>\n",
       "    <tr>\n",
       "      <th>37</th>\n",
       "      <td>221863.666667</td>\n",
       "      <td>220926.0</td>\n",
       "      <td>94519.0</td>\n",
       "      <td>357586.0</td>\n",
       "      <td>6</td>\n",
       "    </tr>\n",
       "    <tr>\n",
       "      <th>38</th>\n",
       "      <td>176202.400000</td>\n",
       "      <td>113807.0</td>\n",
       "      <td>97829.0</td>\n",
       "      <td>364676.0</td>\n",
       "      <td>5</td>\n",
       "    </tr>\n",
       "    <tr>\n",
       "      <th>39</th>\n",
       "      <td>215869.400000</td>\n",
       "      <td>185162.0</td>\n",
       "      <td>146639.0</td>\n",
       "      <td>347303.0</td>\n",
       "      <td>5</td>\n",
       "    </tr>\n",
       "    <tr>\n",
       "      <th>40</th>\n",
       "      <td>127533.750000</td>\n",
       "      <td>124651.0</td>\n",
       "      <td>72962.0</td>\n",
       "      <td>187871.0</td>\n",
       "      <td>4</td>\n",
       "    </tr>\n",
       "  </tbody>\n",
       "</table>\n",
       "</div>"
      ],
      "text/plain": [
       "              mean    median       min       max  count\n",
       "Age                                                    \n",
       "22   259058.600000  245955.0  183393.0  354908.0      5\n",
       "23   172689.250000  164731.0   52173.0  397163.0      8\n",
       "24   222827.977564  225474.5   51042.0  394285.0    312\n",
       "25   229309.074928  240109.0   50135.0  399598.0    347\n",
       "26   230405.732591  238297.0   50214.0  399785.0    359\n",
       "27   216327.515670  213749.0   50680.0  397692.0    351\n",
       "28   221632.525281  218423.0   50595.0  396967.0    356\n",
       "29   292121.166667  327895.5  144971.0  375674.0      6\n",
       "30   251757.000000  270794.0   94671.0  359793.0      8\n",
       "31   258535.666667  251533.0   77681.0  389566.0      6\n",
       "32   212494.250000  234745.5   55866.0  324620.0      4\n",
       "34   262236.333333  265231.0  142250.0  375917.0      9\n",
       "35   314413.000000  314413.0  314413.0  314413.0      1\n",
       "36   203788.666667  183351.0   67213.0  397693.0      6\n",
       "37   221863.666667  220926.0   94519.0  357586.0      6\n",
       "38   176202.400000  113807.0   97829.0  364676.0      5\n",
       "39   215869.400000  185162.0  146639.0  347303.0      5\n",
       "40   127533.750000  124651.0   72962.0  187871.0      4"
      ]
     },
     "execution_count": 14,
     "metadata": {},
     "output_type": "execute_result"
    }
   ],
   "source": [
    "grouped = df.groupby('Age')['Salary'].agg(['mean', 'median', 'min', 'max', 'count'])\n",
    "grouped\n"
   ]
  },
  {
   "cell_type": "code",
   "execution_count": 15,
   "id": "fde33278-7cae-4705-a9ca-b5dd17a0cc58",
   "metadata": {},
   "outputs": [
    {
     "data": {
      "text/html": [
       "<div>\n",
       "<style scoped>\n",
       "    .dataframe tbody tr th:only-of-type {\n",
       "        vertical-align: middle;\n",
       "    }\n",
       "\n",
       "    .dataframe tbody tr th {\n",
       "        vertical-align: top;\n",
       "    }\n",
       "\n",
       "    .dataframe thead th {\n",
       "        text-align: right;\n",
       "    }\n",
       "</style>\n",
       "<table border=\"1\" class=\"dataframe\">\n",
       "  <thead>\n",
       "    <tr style=\"text-align: right;\">\n",
       "      <th></th>\n",
       "      <th></th>\n",
       "      <th>min</th>\n",
       "      <th>max</th>\n",
       "    </tr>\n",
       "    <tr>\n",
       "      <th>Gender</th>\n",
       "      <th>Education</th>\n",
       "      <th></th>\n",
       "      <th></th>\n",
       "    </tr>\n",
       "  </thead>\n",
       "  <tbody>\n",
       "    <tr>\n",
       "      <th rowspan=\"3\" valign=\"top\">Female</th>\n",
       "      <th>Bachelors</th>\n",
       "      <td>50136.0</td>\n",
       "      <td>399598.0</td>\n",
       "    </tr>\n",
       "    <tr>\n",
       "      <th>Masters</th>\n",
       "      <td>52750.0</td>\n",
       "      <td>398111.0</td>\n",
       "    </tr>\n",
       "    <tr>\n",
       "      <th>PHD</th>\n",
       "      <td>50135.0</td>\n",
       "      <td>393601.0</td>\n",
       "    </tr>\n",
       "    <tr>\n",
       "      <th rowspan=\"3\" valign=\"top\">Male</th>\n",
       "      <th>Bachelors</th>\n",
       "      <td>50214.0</td>\n",
       "      <td>399785.0</td>\n",
       "    </tr>\n",
       "    <tr>\n",
       "      <th>Masters</th>\n",
       "      <td>51513.0</td>\n",
       "      <td>393963.0</td>\n",
       "    </tr>\n",
       "    <tr>\n",
       "      <th>PHD</th>\n",
       "      <td>53571.0</td>\n",
       "      <td>399612.0</td>\n",
       "    </tr>\n",
       "  </tbody>\n",
       "</table>\n",
       "</div>"
      ],
      "text/plain": [
       "                      min       max\n",
       "Gender Education                   \n",
       "Female Bachelors  50136.0  399598.0\n",
       "       Masters    52750.0  398111.0\n",
       "       PHD        50135.0  393601.0\n",
       "Male   Bachelors  50214.0  399785.0\n",
       "       Masters    51513.0  393963.0\n",
       "       PHD        53571.0  399612.0"
      ]
     },
     "execution_count": 15,
     "metadata": {},
     "output_type": "execute_result"
    }
   ],
   "source": [
    "grouped = df.groupby(['Gender','Education'])['Salary'].agg(['min','max'])\n",
    "grouped"
   ]
  },
  {
   "cell_type": "code",
   "execution_count": 17,
   "id": "ddb57e5e-0cf7-4a20-8f98-565d8f1a8625",
   "metadata": {},
   "outputs": [
    {
     "data": {
      "text/plain": [
       "Education\n",
       "Bachelors    1391\n",
       "Masters       353\n",
       "PHD            63\n",
       "dtype: int64"
      ]
     },
     "execution_count": 17,
     "metadata": {},
     "output_type": "execute_result"
    }
   ],
   "source": [
    "df.groupby('Education').size()"
   ]
  },
  {
   "cell_type": "code",
   "execution_count": 21,
   "id": "7fe7b93d-fc4e-4a18-be12-e6f8b65630a6",
   "metadata": {},
   "outputs": [
    {
     "data": {
      "text/plain": [
       "<Axes: xlabel='Gender'>"
      ]
     },
     "execution_count": 21,
     "metadata": {},
     "output_type": "execute_result"
    },
    {
     "data": {
      "image/png": "[encoded data removed]",
      "text/plain": [
       "<Figure size 640x480 with 1 Axes>"
      ]
     },
     "metadata": {},
     "output_type": "display_data"
    }
   ],
   "source": [
    "df['Gender'].value_counts().plot(kind='bar')\n"
   ]
  },
  {
   "cell_type": "code",
   "execution_count": 22,
   "id": "a57ef25c-3ec3-4495-b80d-8a27b4fd4d57",
   "metadata": {},
   "outputs": [
    {
     "data": {
      "text/plain": [
       "(array([187., 183., 163., 184., 170., 211., 173., 172., 179., 176.]),\n",
       " array([ 50135.,  85100., 120065., 155030., 189995., 224960., 259925.,\n",
       "        294890., 329855., 364820., 399785.]),\n",
       " <BarContainer object of 10 artists>)"
      ]
     },
     "execution_count": 22,
     "metadata": {},
     "output_type": "execute_result"
    },
    {
     "data": {
      "image/png": "[encoded data removed]",
      "text/plain": [
       "<Figure size 640x480 with 1 Axes>"
      ]
     },
     "metadata": {},
     "output_type": "display_data"
    }
   ],
   "source": [
    "\n",
    "plt.hist(df['Salary'], bins=10, edgecolor='black')"
   ]
  },
  {
   "cell_type": "code",
   "execution_count": null,
   "id": "a7294eb2-9b69-4500-ac94-cb72c96037ef",
   "metadata": {},
   "outputs": [],
   "source": []
  }
 ],
 "metadata": {
  "kernelspec": {
   "display_name": "Python 3 (ipykernel)",
   "language": "python",
   "name": "python3"
  },
  "language_info": {
   "codemirror_mode": {
    "name": "ipython",
    "version": 3
   },
   "file_extension": ".py",
   "mimetype": "text/x-python",
   "name": "python",
   "nbconvert_exporter": "python",
   "pygments_lexer": "ipython3",
   "version": "3.12.7"
  }
 },
 "nbformat": 4,
 "nbformat_minor": 5
}
